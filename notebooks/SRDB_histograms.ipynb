{
 "cells": [
  {
   "cell_type": "code",
   "execution_count": 7,
   "metadata": {},
   "outputs": [
    {
     "name": "stderr",
     "output_type": "stream",
     "text": [
      "Duplicate key in file 'style.mpl', line 17 ('axes.titlesize : 9')\n"
     ]
    },
    {
     "name": "stdout",
     "output_type": "stream",
     "text": [
      "The autoreload extension is already loaded. To reload it, use:\n",
      "  %reload_ext autoreload\n"
     ]
    }
   ],
   "source": [
    "# autoreload\n",
    "%load_ext autoreload\n",
    "%autoreload 2\n",
    "import pandas as pd\n",
    "import numpy as np\n",
    "import seaborn as sns\n",
    "from scipy.stats import gmean, gstd\n",
    "from matplotlib import pyplot as plt\n",
    "\n",
    "import viz\n",
    "colors = viz.plotting_style()\n",
    "\n",
    "# load the style file for mpl \n",
    "plt.style.use('style.mpl')"
   ]
  },
  {
   "cell_type": "code",
   "execution_count": 8,
   "metadata": {},
   "outputs": [
    {
     "name": "stderr",
     "output_type": "stream",
     "text": [
      "/var/folders/bm/mmlmzvwn36sbfm6ks9_nddlw0000gn/T/ipykernel_265/2140980518.py:2: DtypeWarning: Columns (4,39,61) have mixed types. Specify dtype option on import or set low_memory=False.\n",
      "  srdb = pd.read_csv('../data/SRDB_V5_1827/data/srdb-data-V5.csv')\n"
     ]
    }
   ],
   "source": [
    "# units are gC/m2/yr\n",
    "srdb = pd.read_csv('../data/SRDB_V5_1827/data/srdb-data-V5.csv')\n",
    "srdb_studies = pd.read_csv('../data/SRDB_V5_1827/data/srdb-studies-V5.csv', encoding = \"ISO-8859-1\")\n",
    "srdb_equations = pd.read_csv('../data/SRDB_V5_1827/data/srdb-equations-V5.csv', encoding = \"ISO-8859-1\")\n",
    "\n",
    "# Entry_date is a date-time in the format 'YYYY-MM-DD'\n",
    "srdb['Entry_datetime'] = pd.to_datetime(srdb['Entry_date'], format='%Y-%m-%d')\n",
    "\n",
    "# Fetch the year of publication via \"Study_number\"\n",
    "srdb['measured_year'] = srdb_studies.set_index('Study_number').loc[srdb['Study_number'], 'PubYear'].values"
   ]
  },
  {
   "cell_type": "code",
   "execution_count": 9,
   "metadata": {},
   "outputs": [
    {
     "data": {
      "text/plain": [
       "Index(['Record_number', 'Entry_date', 'Study_number', 'Author',\n",
       "       'Duplicate_record', 'Quality_flag', 'Contributor', 'Country', 'Region',\n",
       "       'Site_name', 'Site_ID', 'Study_midyear', 'YearsOfData', 'Latitude',\n",
       "       'Longitude', 'Elevation', 'Manipulation', 'Manipulation_level',\n",
       "       'Age_ecosystem', 'Age_disturbance', 'Species', 'Biome',\n",
       "       'Ecosystem_type', 'Ecosystem_state', 'Leaf_habit', 'Stage', 'Soil_type',\n",
       "       'Soil_drainage', 'Soil_BD', 'Soil_CN', 'Soil_sand', 'Soil_silt',\n",
       "       'Soil_clay', 'MAT', 'MAP', 'PET', 'Study_temp', 'Study_precip',\n",
       "       'Meas_method', 'Collar_height', 'Collar_depth', 'Chamber_area',\n",
       "       'Time_of_day', 'Meas_interval', 'Annual_coverage', 'Partition_method',\n",
       "       'Rs_annual', 'Rs_annual_err', 'Rs_interann_err', 'Rlitter_annual',\n",
       "       'Ra_annual', 'Rh_annual', 'RC_annual', 'Rs_spring', 'Rs_summer',\n",
       "       'Rs_autumn', 'Rs_winter', 'Rs_growingseason', 'Rs_wet', 'Rs_dry',\n",
       "       'RC_seasonal', 'RC_season', 'GPP', 'ER', 'NEP', 'NPP', 'ANPP', 'BNPP',\n",
       "       'NPP_FR', 'TBCA', 'Litter_flux', 'Rootlitter_flux', 'TotDet_flux',\n",
       "       'Ndep', 'LAI', 'BA', 'C_veg_total', 'C_AG', 'C_BG', 'C_CR', 'C_FR',\n",
       "       'C_litter', 'C_soilmineral', 'C_soildepth', 'Notes', 'Entry_datetime',\n",
       "       'measured_year'],\n",
       "      dtype='object')"
      ]
     },
     "execution_count": 9,
     "metadata": {},
     "output_type": "execute_result"
    }
   ],
   "source": [
    "srdb.columns"
   ]
  },
  {
   "cell_type": "code",
   "execution_count": 10,
   "metadata": {},
   "outputs": [
    {
     "data": {
      "text/plain": [
       "33       Fertilized\n",
       "35       Fertilized\n",
       "37       Fertilized\n",
       "53              CO2\n",
       "54              CO2\n",
       "            ...    \n",
       "10280    Fertilized\n",
       "10281    Fertilized\n",
       "10282    Fertilized\n",
       "10283    Fertilized\n",
       "10284    Fertilized\n",
       "Name: Manipulation, Length: 1804, dtype: object"
      ]
     },
     "execution_count": 10,
     "metadata": {},
     "output_type": "execute_result"
    }
   ],
   "source": [
    "mask = np.logical_and(srdb.Rs_annual.notnull(), srdb.Manipulation.notnull())\n",
    "srdb[mask].Manipulation"
   ]
  },
  {
   "cell_type": "code",
   "execution_count": 11,
   "metadata": {},
   "outputs": [
    {
     "data": {
      "text/plain": [
       "array([nan, 'Negative', 'Positive', 'Mixed'], dtype=object)"
      ]
     },
     "execution_count": 11,
     "metadata": {},
     "output_type": "execute_result"
    }
   ],
   "source": [
    "srdb_equations.WC_effect.unique()"
   ]
  },
  {
   "cell_type": "code",
   "execution_count": 16,
   "metadata": {},
   "outputs": [
    {
     "name": "stdout",
     "output_type": "stream",
     "text": [
      "median Q10: 2.61\n"
     ]
    },
    {
     "data": {
      "image/png": "[encoded data removed]",
      "text/plain": [
       "<Figure size 700x250 with 3 Axes>"
      ]
     },
     "metadata": {},
     "output_type": "display_data"
    }
   ],
   "source": [
    "mosaic = \"ABC\"\n",
    "fig, axs = plt.subplot_mosaic(mosaic, figsize=(7, 2.5))\n",
    "\n",
    "plt.sca(axs['A'])\n",
    "plt.xscale('log')\n",
    "bins = np.logspace(1,6,50)\n",
    "mask = srdb.Manipulation.isnull()\n",
    "plt.hist(srdb[mask].Rs_annual, bins=bins, edgecolor='w', lw=1, color=colors['blue'])\n",
    "plt.hist(srdb[mask].Rh_annual, bins=bins, edgecolor='w', lw=1, color=colors['red'])\n",
    "\n",
    "plt.xlabel('resp. rate (g C m$^{-2}$ yr$^{-1}$)')\n",
    "plt.ylabel('number of measurements')\n",
    "plt.xlim(10, 1e4)\n",
    "plt.title(f'measured $R_S$ and $R_H$')\n",
    "\n",
    "plt.sca(axs['B'])\n",
    "# lump together all the Q10 values over the 10 C ranges \n",
    "# Q10_0_10, Q10_5_15, Q10_10_20\n",
    "\n",
    "vals = np.concatenate([srdb_equations.Q10_0_10, srdb_equations.Q10_5_15, srdb_equations.Q10_10_20])\n",
    "median = np.nanmedian(vals)\n",
    "print(f'median Q10: {median:.2f}')\n",
    "plt.hist(vals, bins=50, color=colors['purple'], alpha=0.5)\n",
    "plt.axvline(median, color='k', ls='--', lw=1, label='median')\n",
    "\n",
    "plt.xlabel('Q$_{10}$ value')\n",
    "plt.ylabel('number of measurements')\n",
    "plt.title('temperature effect on $R_S$')\n",
    "plt.xlim(0, 10)\n",
    "plt.xticks(np.arange(0, 11, 5))\n",
    "\n",
    "plt.sca(axs['C'])\n",
    "\n",
    "# bar plot counting the values for WC_effect, which has values \n",
    "# of nan, 'Negative', 'Positive', 'Mixed'\n",
    "\n",
    "wc_effect = srdb_equations.WC_effect.value_counts()\n",
    "wc_effect = wc_effect[wc_effect.index != 'nan']\n",
    "plt.bar(wc_effect.index, wc_effect.values, color=colors['green'], alpha=0.5)\n",
    "plt.title('water effect on $R_S$')\n",
    "plt.ylabel('number of measurements')\n",
    "plt.xticks(np.arange(len(wc_effect.index)), wc_effect.index.str.lower(), rotation=45)\n",
    "plt.tight_layout()\n",
    "\n",
    "plt.show()"
   ]
  },
  {
   "cell_type": "code",
   "execution_count": 17,
   "metadata": {},
   "outputs": [
    {
     "name": "stdout",
     "output_type": "stream",
     "text": [
      "Rs_annual: shape=0.7485556908065243, loc=0, scale=675.1524306465097, median=893.464229513466, mean=675.1524306465097, std=774.4124923472046\n",
      "Rh_annual: shape=0.6826748920191539, loc=0, scale=388.7300620598252, median=490.7366742633611, mean=388.7300620598252, std=378.11530682777294\n",
      "Rs_annual: KS statistic=0.0721302221894029, p-value=2.028019905200937e-26\n",
      "Rh_annual: KS statistic=0.06925611439942442, p-value=7.994476254878812e-05\n",
      "Rs_annual: raw median=732.0, raw mean=854.9038691290991\n",
      "Rh_annual: raw median=420.0, raw mean=479.31325495190845\n"
     ]
    }
   ],
   "source": [
    "# Fit rs and rh to a lognormal distribution using scipy\n",
    "from scipy.stats import lognorm\n",
    "from scipy.stats import kstest\n",
    "\n",
    "def fit_lognormal(data):\n",
    "    # Fit a lognormal distribution to the data\n",
    "    shape, loc, scale = lognorm.fit(data, floc=0)\n",
    "    # Calculate the mean and standard deviation of the fitted distribution\n",
    "    mean = np.exp(np.log(scale) + 0.5 * shape**2)\n",
    "    std = np.sqrt((np.exp(shape**2) - 1) * np.exp(2 * np.log(scale) + shape**2))\n",
    "    median = np.exp(np.log(scale))\n",
    "    return shape, loc, scale, median, mean, std\n",
    "\n",
    "\n",
    "# Fit the lognormal distribution to Rs_annual and Rh_annual\n",
    "mask_Rs = np.logical_and(srdb.Rs_annual.notnull(), srdb.Rs_annual > 0)\n",
    "mask_Rh = np.logical_and(srdb.Rs_annual.notnull(), srdb.Rh_annual > 0)\n",
    "Rs_shape, Rs_loc, Rs_scale, Rs_mean, Rs_median, Rs_std = fit_lognormal(srdb[mask_Rs].Rs_annual)\n",
    "Rh_shape, Rh_loc, Rh_scale, Rh_mean, Rh_median, Rh_std = fit_lognormal(srdb[mask_Rh].Rh_annual)\n",
    "print(f\"Rs_annual: shape={Rs_shape}, loc={Rs_loc}, scale={Rs_scale}, median={Rs_median}, mean={Rs_mean}, std={Rs_std}\")\n",
    "print(f\"Rh_annual: shape={Rh_shape}, loc={Rh_loc}, scale={Rh_scale}, median={Rh_median}, mean={Rh_mean}, std={Rh_std}\")\n",
    "# Perform the Kolmogorov-Smirnov test\n",
    "Rs_statistic, Rs_p_value = kstest(srdb.Rs_annual.dropna(), 'lognorm', args=(Rs_shape, Rs_loc, Rs_scale))\n",
    "Rh_statistic, Rh_p_value = kstest(srdb.Rh_annual.dropna(), 'lognorm', args=(Rh_shape, Rh_loc, Rh_scale))\n",
    "print(f\"Rs_annual: KS statistic={Rs_statistic}, p-value={Rs_p_value}\")\n",
    "print(f\"Rh_annual: KS statistic={Rh_statistic}, p-value={Rh_p_value}\")\n",
    "\n",
    "# Calculate the raw medians and means for both\n",
    "Rs_annual = srdb[mask_Rs].Rs_annual\n",
    "Rh_annual = srdb[mask_Rh].Rh_annual\n",
    "Rs_median_raw = np.median(Rs_annual)\n",
    "Rh_median_raw = np.median(Rh_annual)\n",
    "Rs_mean_raw = np.mean(Rs_annual)\n",
    "Rh_mean_raw = np.mean(Rh_annual)\n",
    "print(f\"Rs_annual: raw median={Rs_median_raw}, raw mean={Rs_mean_raw}\")\n",
    "print(f\"Rh_annual: raw median={Rh_median_raw}, raw mean={Rh_mean_raw}\")\n",
    "\n"
   ]
  },
  {
   "cell_type": "code",
   "execution_count": 18,
   "metadata": {},
   "outputs": [
    {
     "name": "stdout",
     "output_type": "stream",
     "text": [
      "Q10_0_10: raw median=2.72, raw mean=3.270743187645208\n",
      "Q10_5_15: raw median=2.7, raw mean=2.981456135863317\n",
      "Q10_10_20: raw median=2.404838923, raw mean=2.6289841030129266\n"
     ]
    }
   ],
   "source": [
    "# Calculate the raw mean and medians of the Q10 values\n",
    "Q10_0_10 = srdb_equations.Q10_0_10\n",
    "Q10_5_15 = srdb_equations.Q10_5_15\n",
    "Q10_10_20 = srdb_equations.Q10_10_20\n",
    "Q10_0_10_median = np.nanmedian(Q10_0_10)\n",
    "Q10_5_15_median = np.nanmedian(Q10_5_15)\n",
    "Q10_10_20_median = np.nanmedian(Q10_10_20)\n",
    "Q10_0_10_mean = np.mean(Q10_0_10)\n",
    "Q10_5_15_mean = np.mean(Q10_5_15)\n",
    "Q10_10_20_mean = np.mean(Q10_10_20)\n",
    "\n",
    "print(f\"Q10_0_10: raw median={Q10_0_10_median}, raw mean={Q10_0_10_mean}\")\n",
    "print(f\"Q10_5_15: raw median={Q10_5_15_median}, raw mean={Q10_5_15_mean}\")\n",
    "print(f\"Q10_10_20: raw median={Q10_10_20_median}, raw mean={Q10_10_20_mean}\")"
   ]
  },
  {
   "cell_type": "code",
   "execution_count": 19,
   "metadata": {},
   "outputs": [
    {
     "name": "stdout",
     "output_type": "stream",
     "text": [
      "Geometric mean Rh: 390.27 g C/m2/yr\n",
      "Geometric std Rh: 2.02 fold\n",
      "Mean Rh: 480.41 g C/m2/yr\n",
      "Std Rh: 340.86 g C/m2/yr\n"
     ]
    }
   ],
   "source": [
    "mask = srdb.Rh_annual > 0\n",
    "rh_gmean = gmean(srdb[mask].Rh_annual)\n",
    "rh_gstd = gstd(srdb[mask].Rh_annual)\n",
    "print(f\"Geometric mean Rh: {rh_gmean:.2f} g C/m2/yr\")\n",
    "print(f\"Geometric std Rh: {rh_gstd:.2f} fold\")\n",
    "\n",
    "rh_mean = srdb[mask].Rh_annual.mean()\n",
    "rh_std = srdb[mask].Rh_annual.std()\n",
    "print(f\"Mean Rh: {rh_mean:.2f} g C/m2/yr\")\n",
    "print(f\"Std Rh: {rh_std:.2f} g C/m2/yr\")"
   ]
  },
  {
   "cell_type": "code",
   "execution_count": null,
   "metadata": {},
   "outputs": [],
   "source": []
  }
 ],
 "metadata": {
  "kernelspec": {
   "display_name": "soil-resp-review25",
   "language": "python",
   "name": "python3"
  },
  "language_info": {
   "codemirror_mode": {
    "name": "ipython",
    "version": 3
   },
   "file_extension": ".py",
   "mimetype": "text/x-python",
   "name": "python",
   "nbconvert_exporter": "python",
   "pygments_lexer": "ipython3",
   "version": "3.11.12"
  }
 },
 "nbformat": 4,
 "nbformat_minor": 4
}
